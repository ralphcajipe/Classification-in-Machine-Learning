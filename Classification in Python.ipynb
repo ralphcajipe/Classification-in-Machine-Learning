{
 "cells": [
  {
   "cell_type": "code",
   "execution_count": 2,
   "metadata": {},
   "outputs": [],
   "source": [
    "import pandas as pd\n",
    "import numpy as np"
   ]
  },
  {
   "cell_type": "code",
   "execution_count": 5,
   "metadata": {},
   "outputs": [],
   "source": [
    "from sklearn import preprocessing\n",
    "from sklearn.feature_selection import SelectKBest, f_regression\n",
    "from sklearn.model_selection import train_test_split\n",
    "from sklearn import metrics\n",
    "from sklearn.metrics import classification_report, confusion_matrix, accuracy_score, f1_score\n",
    "from sklearn.preprocessing import LabelEncoder\n",
    "from sklearn.preprocessing import StandardScaler"
   ]
  },
  {
   "cell_type": "code",
   "execution_count": 6,
   "metadata": {},
   "outputs": [
    {
     "data": {
      "text/html": [
       "<div>\n",
       "<style scoped>\n",
       "    .dataframe tbody tr th:only-of-type {\n",
       "        vertical-align: middle;\n",
       "    }\n",
       "\n",
       "    .dataframe tbody tr th {\n",
       "        vertical-align: top;\n",
       "    }\n",
       "\n",
       "    .dataframe thead th {\n",
       "        text-align: right;\n",
       "    }\n",
       "</style>\n",
       "<table border=\"1\" class=\"dataframe\">\n",
       "  <thead>\n",
       "    <tr style=\"text-align: right;\">\n",
       "      <th></th>\n",
       "      <th>Age</th>\n",
       "      <th>Gender</th>\n",
       "      <th>Polyuria</th>\n",
       "      <th>Polydipsia</th>\n",
       "      <th>sudden weight loss</th>\n",
       "      <th>weakness</th>\n",
       "      <th>Obesity</th>\n",
       "      <th>class</th>\n",
       "    </tr>\n",
       "  </thead>\n",
       "  <tbody>\n",
       "    <tr>\n",
       "      <th>0</th>\n",
       "      <td>40</td>\n",
       "      <td>Male</td>\n",
       "      <td>No</td>\n",
       "      <td>Yes</td>\n",
       "      <td>No</td>\n",
       "      <td>Yes</td>\n",
       "      <td>Yes</td>\n",
       "      <td>Positive</td>\n",
       "    </tr>\n",
       "    <tr>\n",
       "      <th>1</th>\n",
       "      <td>58</td>\n",
       "      <td>Male</td>\n",
       "      <td>No</td>\n",
       "      <td>No</td>\n",
       "      <td>No</td>\n",
       "      <td>Yes</td>\n",
       "      <td>No</td>\n",
       "      <td>Positive</td>\n",
       "    </tr>\n",
       "    <tr>\n",
       "      <th>2</th>\n",
       "      <td>41</td>\n",
       "      <td>Male</td>\n",
       "      <td>Yes</td>\n",
       "      <td>No</td>\n",
       "      <td>No</td>\n",
       "      <td>Yes</td>\n",
       "      <td>No</td>\n",
       "      <td>Positive</td>\n",
       "    </tr>\n",
       "    <tr>\n",
       "      <th>3</th>\n",
       "      <td>45</td>\n",
       "      <td>Male</td>\n",
       "      <td>No</td>\n",
       "      <td>No</td>\n",
       "      <td>Yes</td>\n",
       "      <td>Yes</td>\n",
       "      <td>No</td>\n",
       "      <td>Positive</td>\n",
       "    </tr>\n",
       "    <tr>\n",
       "      <th>4</th>\n",
       "      <td>60</td>\n",
       "      <td>Male</td>\n",
       "      <td>Yes</td>\n",
       "      <td>Yes</td>\n",
       "      <td>Yes</td>\n",
       "      <td>Yes</td>\n",
       "      <td>Yes</td>\n",
       "      <td>Positive</td>\n",
       "    </tr>\n",
       "  </tbody>\n",
       "</table>\n",
       "</div>"
      ],
      "text/plain": [
       "   Age Gender Polyuria Polydipsia sudden weight loss weakness Obesity  \\\n",
       "0   40   Male       No        Yes                 No      Yes     Yes   \n",
       "1   58   Male       No         No                 No      Yes      No   \n",
       "2   41   Male      Yes         No                 No      Yes      No   \n",
       "3   45   Male       No         No                Yes      Yes      No   \n",
       "4   60   Male      Yes        Yes                Yes      Yes     Yes   \n",
       "\n",
       "      class  \n",
       "0  Positive  \n",
       "1  Positive  \n",
       "2  Positive  \n",
       "3  Positive  \n",
       "4  Positive  "
      ]
     },
     "execution_count": 6,
     "metadata": {},
     "output_type": "execute_result"
    }
   ],
   "source": [
    "dia = pd.read_csv('C:/Users/ralph/Downloads/dia - diabetes_data_upload.csv')\n",
    "dia.head()"
   ]
  },
  {
   "cell_type": "code",
   "execution_count": 7,
   "metadata": {},
   "outputs": [
    {
     "data": {
      "text/html": [
       "<div>\n",
       "<style scoped>\n",
       "    .dataframe tbody tr th:only-of-type {\n",
       "        vertical-align: middle;\n",
       "    }\n",
       "\n",
       "    .dataframe tbody tr th {\n",
       "        vertical-align: top;\n",
       "    }\n",
       "\n",
       "    .dataframe thead th {\n",
       "        text-align: right;\n",
       "    }\n",
       "</style>\n",
       "<table border=\"1\" class=\"dataframe\">\n",
       "  <thead>\n",
       "    <tr style=\"text-align: right;\">\n",
       "      <th></th>\n",
       "      <th>Age</th>\n",
       "    </tr>\n",
       "  </thead>\n",
       "  <tbody>\n",
       "    <tr>\n",
       "      <th>count</th>\n",
       "      <td>520.000000</td>\n",
       "    </tr>\n",
       "    <tr>\n",
       "      <th>mean</th>\n",
       "      <td>48.028846</td>\n",
       "    </tr>\n",
       "    <tr>\n",
       "      <th>std</th>\n",
       "      <td>12.151466</td>\n",
       "    </tr>\n",
       "    <tr>\n",
       "      <th>min</th>\n",
       "      <td>16.000000</td>\n",
       "    </tr>\n",
       "    <tr>\n",
       "      <th>25%</th>\n",
       "      <td>39.000000</td>\n",
       "    </tr>\n",
       "    <tr>\n",
       "      <th>50%</th>\n",
       "      <td>47.500000</td>\n",
       "    </tr>\n",
       "    <tr>\n",
       "      <th>75%</th>\n",
       "      <td>57.000000</td>\n",
       "    </tr>\n",
       "    <tr>\n",
       "      <th>max</th>\n",
       "      <td>90.000000</td>\n",
       "    </tr>\n",
       "  </tbody>\n",
       "</table>\n",
       "</div>"
      ],
      "text/plain": [
       "              Age\n",
       "count  520.000000\n",
       "mean    48.028846\n",
       "std     12.151466\n",
       "min     16.000000\n",
       "25%     39.000000\n",
       "50%     47.500000\n",
       "75%     57.000000\n",
       "max     90.000000"
      ]
     },
     "execution_count": 7,
     "metadata": {},
     "output_type": "execute_result"
    }
   ],
   "source": [
    "dia.describe()"
   ]
  },
  {
   "cell_type": "code",
   "execution_count": 8,
   "metadata": {},
   "outputs": [
    {
     "data": {
      "text/plain": [
       "Age                    int64\n",
       "Gender                object\n",
       "Polyuria              object\n",
       "Polydipsia            object\n",
       "sudden weight loss    object\n",
       "weakness              object\n",
       "Obesity               object\n",
       "class                 object\n",
       "dtype: object"
      ]
     },
     "execution_count": 8,
     "metadata": {},
     "output_type": "execute_result"
    }
   ],
   "source": [
    "dia.dtypes"
   ]
  },
  {
   "cell_type": "code",
   "execution_count": 12,
   "metadata": {},
   "outputs": [
    {
     "data": {
      "text/html": [
       "<div>\n",
       "<style scoped>\n",
       "    .dataframe tbody tr th:only-of-type {\n",
       "        vertical-align: middle;\n",
       "    }\n",
       "\n",
       "    .dataframe tbody tr th {\n",
       "        vertical-align: top;\n",
       "    }\n",
       "\n",
       "    .dataframe thead th {\n",
       "        text-align: right;\n",
       "    }\n",
       "</style>\n",
       "<table border=\"1\" class=\"dataframe\">\n",
       "  <thead>\n",
       "    <tr style=\"text-align: right;\">\n",
       "      <th></th>\n",
       "      <th>Age</th>\n",
       "      <th>Gender</th>\n",
       "      <th>Polyuria</th>\n",
       "      <th>Polydipsia</th>\n",
       "      <th>sudden weight loss</th>\n",
       "      <th>weakness</th>\n",
       "      <th>Obesity</th>\n",
       "      <th>class</th>\n",
       "    </tr>\n",
       "  </thead>\n",
       "  <tbody>\n",
       "    <tr>\n",
       "      <th>0</th>\n",
       "      <td>40</td>\n",
       "      <td>1</td>\n",
       "      <td>0</td>\n",
       "      <td>1</td>\n",
       "      <td>0</td>\n",
       "      <td>1</td>\n",
       "      <td>1</td>\n",
       "      <td>1</td>\n",
       "    </tr>\n",
       "    <tr>\n",
       "      <th>1</th>\n",
       "      <td>58</td>\n",
       "      <td>1</td>\n",
       "      <td>0</td>\n",
       "      <td>0</td>\n",
       "      <td>0</td>\n",
       "      <td>1</td>\n",
       "      <td>0</td>\n",
       "      <td>1</td>\n",
       "    </tr>\n",
       "    <tr>\n",
       "      <th>2</th>\n",
       "      <td>41</td>\n",
       "      <td>1</td>\n",
       "      <td>1</td>\n",
       "      <td>0</td>\n",
       "      <td>0</td>\n",
       "      <td>1</td>\n",
       "      <td>0</td>\n",
       "      <td>1</td>\n",
       "    </tr>\n",
       "    <tr>\n",
       "      <th>3</th>\n",
       "      <td>45</td>\n",
       "      <td>1</td>\n",
       "      <td>0</td>\n",
       "      <td>0</td>\n",
       "      <td>1</td>\n",
       "      <td>1</td>\n",
       "      <td>0</td>\n",
       "      <td>1</td>\n",
       "    </tr>\n",
       "    <tr>\n",
       "      <th>4</th>\n",
       "      <td>60</td>\n",
       "      <td>1</td>\n",
       "      <td>1</td>\n",
       "      <td>1</td>\n",
       "      <td>1</td>\n",
       "      <td>1</td>\n",
       "      <td>1</td>\n",
       "      <td>1</td>\n",
       "    </tr>\n",
       "  </tbody>\n",
       "</table>\n",
       "</div>"
      ],
      "text/plain": [
       "   Age  Gender  Polyuria  Polydipsia  sudden weight loss  weakness  Obesity  \\\n",
       "0   40       1         0           1                   0         1        1   \n",
       "1   58       1         0           0                   0         1        0   \n",
       "2   41       1         1           0                   0         1        0   \n",
       "3   45       1         0           0                   1         1        0   \n",
       "4   60       1         1           1                   1         1        1   \n",
       "\n",
       "   class  \n",
       "0      1  \n",
       "1      1  \n",
       "2      1  \n",
       "3      1  \n",
       "4      1  "
      ]
     },
     "execution_count": 12,
     "metadata": {},
     "output_type": "execute_result"
    }
   ],
   "source": [
    "n_dia = LabelEncoder()\n",
    "dia['Gender'] = n_dia.fit_transform(dia['Gender'].astype('str')) \n",
    "dia['Polyuria'] = n_dia.fit_transform(dia['Polyuria'].astype('str')) \n",
    "dia['Polydipsia'] = n_dia.fit_transform(dia['Polydipsia'].astype('str')) \n",
    "dia['sudden weight loss'] = n_dia.fit_transform(dia['sudden weight loss'].astype('str')) \n",
    "dia['weakness'] = n_dia.fit_transform(dia['weakness'].astype('str')) \n",
    "dia['Obesity'] = n_dia.fit_transform(dia['Obesity'].astype('str')) \n",
    "dia['class'] = n_dia.fit_transform(dia['class'].astype('str')) \n",
    "dia.head()"
   ]
  },
  {
   "cell_type": "code",
   "execution_count": 14,
   "metadata": {},
   "outputs": [
    {
     "name": "stdout",
     "output_type": "stream",
     "text": [
      "0      1\n",
      "1      1\n",
      "2      1\n",
      "3      1\n",
      "4      1\n",
      "      ..\n",
      "515    1\n",
      "516    1\n",
      "517    1\n",
      "518    0\n",
      "519    0\n",
      "Name: class, Length: 520, dtype: int32\n"
     ]
    }
   ],
   "source": [
    "x = dia.iloc[:, :-1].values\n",
    "y = dia.iloc[:, 7]\n",
    "print(y)"
   ]
  },
  {
   "cell_type": "code",
   "execution_count": 16,
   "metadata": {},
   "outputs": [],
   "source": [
    "x_train, x_test, y_train, y_test = train_test_split(x, y, test_size = 0.3)"
   ]
  },
  {
   "cell_type": "code",
   "execution_count": 18,
   "metadata": {},
   "outputs": [],
   "source": [
    "scaler = StandardScaler()\n",
    "scaler.fit(x_train)\n",
    "x_train = scaler.transform(x_train)\n",
    "x_test = scaler.transform(x_test)"
   ]
  },
  {
   "cell_type": "code",
   "execution_count": 24,
   "metadata": {},
   "outputs": [],
   "source": [
    "# 6 Algorithms for Base Classification\n",
    "from sklearn.tree import DecisionTreeClassifier\n",
    "from sklearn.naive_bayes import GaussianNB\n",
    "from sklearn.linear_model import LogisticRegression\n",
    "from sklearn.neighbors import KNeighborsClassifier\n",
    "from sklearn.svm import SVC\n",
    "from sklearn.neural_network import MLPClassifier"
   ]
  },
  {
   "cell_type": "code",
   "execution_count": 22,
   "metadata": {},
   "outputs": [
    {
     "name": "stdout",
     "output_type": "stream",
     "text": [
      "396    0\n",
      "367    1\n",
      "41     1\n",
      "500    1\n",
      "497    0\n",
      "      ..\n",
      "302    1\n",
      "172    1\n",
      "202    0\n",
      "139    1\n",
      "359    1\n",
      "Name: class, Length: 156, dtype: int32\n",
      "[0 1 1 1 0 1 1 0 0 1 1 1 1 1 1 1 1 0 1 0 1 1 0 0 1 0 1 1 1 0 1 1 1 0 0 0 0\n",
      " 1 0 1 1 1 0 1 0 1 1 1 1 1 0 1 1 1 0 1 1 0 0 1 0 1 0 1 1 1 1 1 1 1 0 0 1 1\n",
      " 1 1 1 0 0 1 1 1 1 0 1 1 1 1 1 0 1 1 0 0 1 1 0 1 1 1 1 1 1 1 1 1 0 1 1 1 0\n",
      " 0 1 1 0 0 0 1 0 0 1 1 1 0 1 1 0 1 1 0 1 1 1 0 1 0 1 1 0 0 0 0 1 1 0 0 1 1\n",
      " 1 1 0 1 1 0 1 1]\n",
      "94.23076923076923\n",
      "[[50  6]\n",
      " [ 3 97]]\n",
      "              precision    recall  f1-score   support\n",
      "\n",
      "           0       0.94      0.89      0.92        56\n",
      "           1       0.94      0.97      0.96       100\n",
      "\n",
      "    accuracy                           0.94       156\n",
      "   macro avg       0.94      0.93      0.94       156\n",
      "weighted avg       0.94      0.94      0.94       156\n",
      "\n"
     ]
    }
   ],
   "source": [
    "# 1st Algorithm: DecisionTreeClassifier\n",
    "dt = DecisionTreeClassifier()\n",
    "dt.fit(x_train, y_train)\n",
    "pred_dt = dt.predict(x_test)\n",
    "print(y_test)\n",
    "print(pred_dt)\n",
    "print(metrics.accuracy_score(y_test, pred_dt)*100)\n",
    "print(confusion_matrix(y_test, pred_dt))\n",
    "print(classification_report(y_test, pred_dt))"
   ]
  },
  {
   "cell_type": "code",
   "execution_count": 49,
   "metadata": {},
   "outputs": [
    {
     "name": "stdout",
     "output_type": "stream",
     "text": [
      "396    0\n",
      "367    1\n",
      "41     1\n",
      "500    1\n",
      "497    0\n",
      "      ..\n",
      "302    1\n",
      "172    1\n",
      "202    0\n",
      "139    1\n",
      "359    1\n",
      "Name: class, Length: 156, dtype: int32\n",
      "[0 1 1 1 0 1 1 1 1 1 1 1 1 1 1 1 1 0 1 0 1 1 0 1 1 1 1 1 1 1 1 1 1 1 0 0 0\n",
      " 1 0 1 1 1 0 1 0 1 1 1 1 1 0 0 1 1 1 1 1 0 0 0 1 1 0 1 1 1 1 1 0 0 1 0 1 0\n",
      " 1 1 1 0 1 0 1 1 1 0 1 1 1 0 1 0 0 1 0 1 0 1 0 1 1 0 1 1 1 1 1 1 0 1 1 1 0\n",
      " 0 1 1 0 1 0 1 0 0 1 1 1 0 1 1 1 1 1 0 1 1 1 1 1 1 1 1 0 1 0 1 1 1 0 0 1 1\n",
      " 1 1 0 1 1 0 1 1]\n",
      "85.8974358974359\n",
      "[[40 16]\n",
      " [ 6 94]]\n",
      "              precision    recall  f1-score   support\n",
      "\n",
      "           0       0.87      0.71      0.78        56\n",
      "           1       0.85      0.94      0.90       100\n",
      "\n",
      "    accuracy                           0.86       156\n",
      "   macro avg       0.86      0.83      0.84       156\n",
      "weighted avg       0.86      0.86      0.86       156\n",
      "\n"
     ]
    }
   ],
   "source": [
    "# 2nd Algorithm: GaussianNB\n",
    "nb = GaussianNB()\n",
    "nb.fit(x_train, y_train)\n",
    "pred_nb = nb.predict(x_test)\n",
    "print(y_test)\n",
    "print(pred_nb)\n",
    "print(metrics.accuracy_score(y_test, pred_nb)*100)\n",
    "print(confusion_matrix(y_test, pred_nb))\n",
    "print(classification_report(y_test, pred_nb))"
   ]
  },
  {
   "cell_type": "code",
   "execution_count": 32,
   "metadata": {},
   "outputs": [
    {
     "name": "stdout",
     "output_type": "stream",
     "text": [
      "396    0\n",
      "367    1\n",
      "41     1\n",
      "500    1\n",
      "497    0\n",
      "      ..\n",
      "302    1\n",
      "172    1\n",
      "202    0\n",
      "139    1\n",
      "359    1\n",
      "Name: class, Length: 156, dtype: int32\n",
      "[0 1 1 1 0 1 1 0 0 1 1 1 1 1 1 1 1 0 1 0 1 1 0 0 1 0 1 1 1 0 1 1 1 0 0 0 0\n",
      " 1 0 1 1 1 0 1 0 1 1 1 1 1 0 1 1 1 0 1 1 0 0 1 0 1 0 1 1 1 1 1 1 1 0 0 1 1\n",
      " 1 1 1 0 0 1 1 1 1 0 1 1 1 1 1 0 1 1 0 0 1 1 0 1 1 1 1 1 1 1 1 1 0 1 1 1 0\n",
      " 0 1 1 0 0 0 1 0 0 1 1 1 0 1 1 0 1 1 0 1 1 1 0 1 0 1 1 0 0 0 0 1 1 0 0 1 1\n",
      " 1 1 0 1 1 0 1 1]\n",
      "94.23076923076923\n",
      "[[50  6]\n",
      " [ 3 97]]\n",
      "              precision    recall  f1-score   support\n",
      "\n",
      "           0       0.94      0.89      0.92        56\n",
      "           1       0.94      0.97      0.96       100\n",
      "\n",
      "    accuracy                           0.94       156\n",
      "   macro avg       0.94      0.93      0.94       156\n",
      "weighted avg       0.94      0.94      0.94       156\n",
      "\n"
     ]
    }
   ],
   "source": [
    "# 3rd Algorithm: Logistic Regression\n",
    "lr = LogisticRegression()\n",
    "lr.fit(x_train, y_train)\n",
    "pred_lr = lr.predict(x_test)\n",
    "print(y_test)\n",
    "print(pred_lr)\n",
    "print(metrics.accuracy_score(y_test, pred_lr)*100)\n",
    "print(confusion_matrix(y_test, pred_lr))\n",
    "print(classification_report(y_test, pred_lr))"
   ]
  },
  {
   "cell_type": "code",
   "execution_count": 50,
   "metadata": {},
   "outputs": [
    {
     "name": "stdout",
     "output_type": "stream",
     "text": [
      "396    0\n",
      "367    1\n",
      "41     1\n",
      "500    1\n",
      "497    0\n",
      "      ..\n",
      "302    1\n",
      "172    1\n",
      "202    0\n",
      "139    1\n",
      "359    1\n",
      "Name: class, Length: 156, dtype: int32\n",
      "[0 1 1 1 0 1 1 0 0 1 1 1 1 1 1 1 1 0 1 0 1 1 0 1 1 0 1 1 1 0 1 1 1 0 0 0 0\n",
      " 1 0 1 1 1 0 1 0 1 1 1 1 1 0 1 1 1 0 1 1 0 0 1 0 0 0 1 1 0 1 1 0 0 1 0 1 1\n",
      " 1 1 1 0 0 1 1 1 1 0 1 1 1 0 1 0 0 1 0 1 1 1 0 1 1 0 1 1 1 1 1 1 0 0 1 1 0\n",
      " 0 1 1 0 0 0 1 0 0 1 1 0 0 1 1 0 1 1 0 1 1 1 1 1 1 1 1 0 1 0 0 1 1 0 0 1 1\n",
      " 1 1 0 1 0 0 1 1]\n",
      "92.94871794871796\n",
      "[[51  5]\n",
      " [ 6 94]]\n",
      "              precision    recall  f1-score   support\n",
      "\n",
      "           0       0.89      0.91      0.90        56\n",
      "           1       0.95      0.94      0.94       100\n",
      "\n",
      "    accuracy                           0.93       156\n",
      "   macro avg       0.92      0.93      0.92       156\n",
      "weighted avg       0.93      0.93      0.93       156\n",
      "\n"
     ]
    }
   ],
   "source": [
    "# 4th Algorithm: KNeighborsClassifier\n",
    "knn = KNeighborsClassifier()\n",
    "knn.fit(x_train, y_train)\n",
    "pred_knn = knn.predict(x_test)\n",
    "print(y_test)\n",
    "print(pred_knn)\n",
    "print(metrics.accuracy_score(y_test, pred_knn)*100)\n",
    "print(confusion_matrix(y_test, pred_knn))\n",
    "print(classification_report(y_test, pred_knn))"
   ]
  },
  {
   "cell_type": "code",
   "execution_count": 51,
   "metadata": {},
   "outputs": [
    {
     "name": "stdout",
     "output_type": "stream",
     "text": [
      "396    0\n",
      "367    1\n",
      "41     1\n",
      "500    1\n",
      "497    0\n",
      "      ..\n",
      "302    1\n",
      "172    1\n",
      "202    0\n",
      "139    1\n",
      "359    1\n",
      "Name: class, Length: 156, dtype: int32\n",
      "[0 1 1 1 0 1 1 0 0 1 1 1 1 1 1 1 1 0 1 0 1 1 0 1 1 0 1 1 1 0 1 1 1 0 0 0 0\n",
      " 1 0 1 1 1 0 1 0 1 1 1 1 1 0 1 1 1 0 1 1 0 0 0 0 1 0 1 1 1 1 1 0 0 1 0 1 1\n",
      " 1 1 1 0 0 1 1 1 1 0 1 1 1 0 1 0 0 1 0 1 1 1 0 1 1 0 1 1 1 1 1 1 0 1 1 1 0\n",
      " 0 1 1 0 0 0 1 0 0 1 1 0 0 1 1 0 1 1 0 1 1 1 1 1 1 1 1 0 1 0 0 1 1 0 0 1 1\n",
      " 1 1 0 1 1 0 1 1]\n",
      "93.58974358974359\n",
      "[[50  6]\n",
      " [ 4 96]]\n",
      "              precision    recall  f1-score   support\n",
      "\n",
      "           0       0.93      0.89      0.91        56\n",
      "           1       0.94      0.96      0.95       100\n",
      "\n",
      "    accuracy                           0.94       156\n",
      "   macro avg       0.93      0.93      0.93       156\n",
      "weighted avg       0.94      0.94      0.94       156\n",
      "\n"
     ]
    }
   ],
   "source": [
    "# 5th Algorithm: Support Vector Classifier\n",
    "svm = SVC()\n",
    "svm.fit(x_train, y_train)\n",
    "pred_svm = svm.predict(x_test)\n",
    "print(y_test)\n",
    "print(pred_svm)\n",
    "print(metrics.accuracy_score(y_test, pred_svm)*100)\n",
    "print(confusion_matrix(y_test, pred_svm))\n",
    "print(classification_report(y_test, pred_svm))"
   ]
  },
  {
   "cell_type": "code",
   "execution_count": 39,
   "metadata": {},
   "outputs": [
    {
     "name": "stdout",
     "output_type": "stream",
     "text": [
      "396    0\n",
      "367    1\n",
      "41     1\n",
      "500    1\n",
      "497    0\n",
      "      ..\n",
      "302    1\n",
      "172    1\n",
      "202    0\n",
      "139    1\n",
      "359    1\n",
      "Name: class, Length: 156, dtype: int32\n",
      "[0 1 1 1 0 1 1 0 0 1 1 1 1 1 1 1 1 0 1 0 1 1 0 0 1 0 1 1 1 0 1 1 1 0 0 0 0\n",
      " 1 0 1 1 1 0 1 0 1 1 1 1 1 0 1 1 1 0 1 1 0 0 1 0 1 0 1 1 1 1 1 1 1 0 0 1 1\n",
      " 1 1 1 0 0 1 1 1 1 0 1 1 1 1 1 0 1 1 0 0 1 1 0 1 1 1 1 1 1 1 1 1 0 1 1 1 0\n",
      " 0 1 1 0 0 0 1 0 0 1 1 1 0 1 1 0 1 1 0 1 1 1 0 1 0 1 1 0 0 0 0 1 1 0 0 1 1\n",
      " 1 1 0 1 1 0 1 1]\n",
      "94.23076923076923\n",
      "[[50  6]\n",
      " [ 3 97]]\n",
      "              precision    recall  f1-score   support\n",
      "\n",
      "           0       0.94      0.89      0.92        56\n",
      "           1       0.94      0.97      0.96       100\n",
      "\n",
      "    accuracy                           0.94       156\n",
      "   macro avg       0.94      0.93      0.94       156\n",
      "weighted avg       0.94      0.94      0.94       156\n",
      "\n"
     ]
    },
    {
     "name": "stderr",
     "output_type": "stream",
     "text": [
      "D:\\anaconda3\\lib\\site-packages\\sklearn\\neural_network\\_multilayer_perceptron.py:582: ConvergenceWarning: Stochastic Optimizer: Maximum iterations (100) reached and the optimization hasn't converged yet.\n",
      "  warnings.warn(\n"
     ]
    }
   ],
   "source": [
    "# 6th Algorithm: Neural Networks\n",
    "nn = MLPClassifier(hidden_layer_sizes =(200, 200, 200), activation = 'relu', max_iter = 100)\n",
    "nn.fit(x_train, y_train)\n",
    "pred_nn = dt.predict(x_test)\n",
    "print(y_test)\n",
    "print(pred_nn)\n",
    "print(metrics.accuracy_score(y_test, pred_nn)*100)\n",
    "print(confusion_matrix(y_test, pred_nn))\n",
    "print(classification_report(y_test, pred_nn))"
   ]
  },
  {
   "cell_type": "code",
   "execution_count": 45,
   "metadata": {},
   "outputs": [],
   "source": [
    "# Additonal Algorithms\n",
    "from sklearn.ensemble import RandomForestClassifier\n",
    "from sklearn.ensemble import GradientBoostingClassifier"
   ]
  },
  {
   "cell_type": "code",
   "execution_count": 58,
   "metadata": {},
   "outputs": [
    {
     "name": "stdout",
     "output_type": "stream",
     "text": [
      "396    0\n",
      "367    1\n",
      "41     1\n",
      "500    1\n",
      "497    0\n",
      "      ..\n",
      "302    1\n",
      "172    1\n",
      "202    0\n",
      "139    1\n",
      "359    1\n",
      "Name: class, Length: 156, dtype: int32\n",
      "[0 1 1 1 0 1 1 0 0 1 1 1 1 1 1 1 1 0 1 0 1 1 0 1 1 0 1 1 1 0 1 1 1 0 0 0 0\n",
      " 1 0 1 1 1 0 1 0 1 1 1 1 1 0 1 1 1 0 1 1 0 0 0 0 1 0 1 1 1 1 1 0 0 1 0 1 1\n",
      " 1 1 1 0 0 1 1 1 1 0 1 1 1 0 1 0 0 1 0 1 1 1 0 1 1 0 1 1 1 1 1 1 0 1 1 1 0\n",
      " 0 1 1 0 0 0 1 0 0 1 1 0 0 1 1 0 1 1 0 1 1 1 1 1 1 1 1 0 1 0 0 1 1 0 0 1 1\n",
      " 1 1 0 1 1 0 1 1]\n",
      "96.7948717948718\n",
      "[[52  4]\n",
      " [ 1 99]]\n",
      "              precision    recall  f1-score   support\n",
      "\n",
      "           0       0.98      0.93      0.95        56\n",
      "           1       0.96      0.99      0.98       100\n",
      "\n",
      "    accuracy                           0.97       156\n",
      "   macro avg       0.97      0.96      0.96       156\n",
      "weighted avg       0.97      0.97      0.97       156\n",
      "\n"
     ]
    }
   ],
   "source": [
    "# 6th Algorithm: Random Forest Classifier\n",
    "rf = RandomForestClassifier()\n",
    "rf.fit(x_train, y_train)\n",
    "pred_rf = rf.predict(x_test)\n",
    "print(y_test)\n",
    "print(pred_svm)\n",
    "print(metrics.accuracy_score(y_test, pred_rf)*100)\n",
    "print(confusion_matrix(y_test, pred_rf))\n",
    "print(classification_report(y_test, pred_rf))"
   ]
  },
  {
   "cell_type": "code",
   "execution_count": 59,
   "metadata": {},
   "outputs": [
    {
     "name": "stdout",
     "output_type": "stream",
     "text": [
      "396    0\n",
      "367    1\n",
      "41     1\n",
      "500    1\n",
      "497    0\n",
      "      ..\n",
      "302    1\n",
      "172    1\n",
      "202    0\n",
      "139    1\n",
      "359    1\n",
      "Name: class, Length: 156, dtype: int32\n",
      "[0 1 1 1 0 1 0 0 0 1 1 1 1 1 1 1 1 0 1 0 1 1 0 0 1 1 1 1 1 0 1 1 1 0 0 0 0\n",
      " 1 0 1 1 1 0 1 0 1 1 1 1 1 0 1 1 1 0 1 1 0 0 0 0 1 0 1 1 0 1 1 0 0 0 0 1 1\n",
      " 1 1 1 0 0 1 1 1 1 0 1 1 1 1 1 0 0 1 0 1 1 1 0 1 1 0 1 1 1 1 1 1 0 1 1 1 0\n",
      " 0 1 1 0 0 0 1 0 0 1 1 1 0 1 1 0 1 1 0 1 1 1 0 1 0 1 1 0 1 0 0 1 1 0 0 1 1\n",
      " 1 1 0 1 1 0 1 1]\n",
      "95.51282051282051\n",
      "[[53  3]\n",
      " [ 4 96]]\n",
      "              precision    recall  f1-score   support\n",
      "\n",
      "           0       0.93      0.95      0.94        56\n",
      "           1       0.97      0.96      0.96       100\n",
      "\n",
      "    accuracy                           0.96       156\n",
      "   macro avg       0.95      0.95      0.95       156\n",
      "weighted avg       0.96      0.96      0.96       156\n",
      "\n"
     ]
    }
   ],
   "source": [
    "# 7th Algorithm: Gradient Boosting Classifier\n",
    "gb = GradientBoostingClassifier()\n",
    "gb.fit(x_train, y_train)\n",
    "pred_gb = gb.predict(x_test)\n",
    "print(y_test)\n",
    "print(pred_gb)\n",
    "print(metrics.accuracy_score(y_test, pred_gb)*100)\n",
    "print(confusion_matrix(y_test, pred_gb))\n",
    "print(classification_report(y_test, pred_gb))"
   ]
  },
  {
   "cell_type": "code",
   "execution_count": null,
   "metadata": {},
   "outputs": [],
   "source": []
  }
 ],
 "metadata": {
  "kernelspec": {
   "display_name": "Python 3",
   "language": "python",
   "name": "python3"
  },
  "language_info": {
   "codemirror_mode": {
    "name": "ipython",
    "version": 3
   },
   "file_extension": ".py",
   "mimetype": "text/x-python",
   "name": "python",
   "nbconvert_exporter": "python",
   "pygments_lexer": "ipython3",
   "version": "3.8.5"
  }
 },
 "nbformat": 4,
 "nbformat_minor": 4
}
